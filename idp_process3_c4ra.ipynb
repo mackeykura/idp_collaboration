{
 "cells": [
  {
   "cell_type": "code",
   "execution_count": null,
   "metadata": {
    "scrolled": true
   },
   "outputs": [],
   "source": [
    "#! Python3\n",
    "# -*- coding: utf-8 -*-\n",
    "# 異分野共著 process III : idp check\n",
    "\n",
    "import csv\n",
    "import pandas  as pd\n",
    "import numpy as np\n",
    "\n",
    "#1. dataファイル, author_asjc27Listを開く\n",
    "kudf = pd.read_csv('Publications-KU2017.csv')\n",
    "asjcdf = pd.read_csv('AuthorIDwithasjc27List.csv', dtype = 'object')\n",
    "\n",
    "#duplication delate\n",
    "asjcdf['document count'] = asjcdf['document count'].astype(int)\n",
    "asjcdf['asjc27'] = asjcdf['asjc27'].astype(int)\n",
    "print('Authors with less than 5 papers: ' + str(len(asjcdf[asjcdf['document count'] < 5])))\n",
    "asjcdf = asjcdf.drop_duplicates()\n",
    "print('Authors with asjc27 code: ' + str(len(asjcdf[asjcdf['asjc27'] != 0])))\n",
    "\n",
    "#2. 異分野共著かどうか判別\n",
    "#2-1. Author Idsを分野に置き換える\n",
    "papers = []\n",
    "for i, row in kudf.iterrows():\n",
    "    bunya = []\n",
    "    for j, aid in asjcdf.iterrows():\n",
    "        if aid['Author ID'] in row['Scopus Author Ids']:\n",
    "            bunya.append(aid['asjc27'])\n",
    "        else:\n",
    "            continue\n",
    "\n",
    "    #2-2. 著者分野の重複削除\n",
    "    asjc27 = set(bunya)\n",
    "\n",
    "    #2-3. 異分野共著かどうかを判別（異分野共著ならXを入れる）\n",
    "    if len(asjc27) < 2:\n",
    "        idp = ''\n",
    "    elif len(asjc27) == 2:\n",
    "        if 0 in asjc27:\n",
    "            idp = ''\n",
    "        else:\n",
    "            idp = 'X'\n",
    "    else:\n",
    "        idp = 'X'\n",
    "\n",
    "    print(str(i) + ', ' + str(row['EID']) + ': ' + str(idp))\n",
    "    paper = [row['EID'], asjc27, len(asjc27), idp]\n",
    "    papers.append(paper)\n",
    "\n",
    "#idpList\n",
    "#本学全体値\n",
    "papersdf = pd.DataFrame(papers, columns=['EID', 'asjc27', 'Number of asjc', 'idp'])\n",
    "pubdf = pd.merge(papersdf, kudf, how = 'left', on = 'EID')\n",
    "papersdf.to_csv('Publications_KU2017_idp.csv', index=False)\n",
    "print('Interdeciplinary : ' + str(papersdf[papersdf['idp'] == 'X'].count()) + ' in all KU publications.')\n"
   ]
  }
 ],
 "metadata": {
  "kernelspec": {
   "display_name": "Python 3",
   "language": "python",
   "name": "python3"
  },
  "language_info": {
   "codemirror_mode": {
    "name": "ipython",
    "version": 3
   },
   "file_extension": ".py",
   "mimetype": "text/x-python",
   "name": "python",
   "nbconvert_exporter": "python",
   "pygments_lexer": "ipython3",
   "version": "3.7.0"
  }
 },
 "nbformat": 4,
 "nbformat_minor": 2
}
