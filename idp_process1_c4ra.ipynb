{
 "cells": [
  {
   "cell_type": "markdown",
   "metadata": {},
   "source": [
    "<h2> 異分野共著　process I : Make ID list </h2>"
   ]
  },
  {
   "cell_type": "code",
   "execution_count": 92,
   "metadata": {},
   "outputs": [],
   "source": [
    "#! Python3\n",
    "# -*- coding: utf-8 -*-\n",
    "# 異分野共著　process I : Make ID list\n",
    "\n",
    "import csv, os, glob\n",
    "import pandas  as pd\n",
    "import numpy as np"
   ]
  },
  {
   "cell_type": "markdown",
   "metadata": {},
   "source": [
    "\n",
    "<h3>0.事前準備</h3>"
   ]
  },
  {
   "cell_type": "code",
   "execution_count": 93,
   "metadata": {
    "scrolled": false
   },
   "outputs": [
    {
     "name": "stdout",
     "output_type": "stream",
     "text": [
      "Change name: Publications at Kyoto University_2020_190207.csv...\n",
      "13      55553077000| 57213186397| 57160212700| 9845935500\n",
      "14      57191752336| 57204598303| 35254533400| 2592812...\n",
      "15      55917949000| 56140399700| 35254533400| 7004006...\n",
      "16      57218886871| 7103161459| 57205227392| 15045889...\n",
      "17                               35397669200| 55728708900\n",
      "                              ...                        \n",
      "8802    57193431831| 56492963100| 55568512146| 6507202...\n",
      "8803                 57223143923| 36634427800| 7202931420\n",
      "8804    6701596602| 56011428100| 7004219270| 660339844...\n",
      "8805    57210727646| 37067554200| 38061869500| 5576017...\n",
      "8806                 57216585956| 57203369625| 7006122085\n",
      "Name: Scopus Author Ids, Length: 8794, dtype: object\n"
     ]
    }
   ],
   "source": [
    "#複数ファイルがある場合: fromSciValというフォルダを作り、SciValからDLしたファイルをそのまま入れておく\n",
    "#DLした項目によって、下記を変更\n",
    "col_names =  ['Title', 'Authors', 'Number of Authors', 'Scopus Author Ids', 'Year', 'Scopus Source title', 'SNIP 2017', 'Citations',\n",
    "       'Field-Weighted Outputs in Top Citation Percentiles, per percentile', 'DOI', 'Publication-type', 'EID',\n",
    "       'All Science Journal Classification (ASJC)']\n",
    "\n",
    "#fromSciVal内にあるファイルの名を変更、一つのリストにまとめる\n",
    "publicationsAll = pd.DataFrame(index=[], columns=col_names)\n",
    "# カレントディレクトリの全ファイルをループする\n",
    "for csv_file in os.listdir('fromSciVal/.'):\n",
    "    if not csv_file.endswith('.csv'):\n",
    "        continue # CSVファイルでなければスキップ\n",
    "\n",
    "    print('Change name: ' + csv_file + '...')\n",
    "    df = pd.read_csv('fromSciVal/' + csv_file, header = None, dtype ='object',names = col_names)\n",
    "    dfname = str(df.iat[0,1] + \"_\" +df.iat[1,1])\n",
    "    os.rename('fromSciVal/' + csv_file, 'fromSciVal/' + dfname + '_190207.csv')\n",
    "    df2 = df.dropna(axis = 0, subset=['All Science Journal Classification (ASJC)'])\n",
    "    df3= df2[df2['Title'] != 'Title']\n",
    "#    df3['Scopus Author Ids'] =  df3['Scopus Author Ids'].str.replace(\"|\",\",\")\n",
    "    print(df3['Scopus Author Ids'])\n",
    "    \n",
    "    \n",
    "    publicationsAll = pd.concat([publicationsAll, df3], ignore_index=True)\n",
    "\n",
    "# 出力するファイル名を指定する。\n",
    "publicationsAll.to_csv('Publications_KU2020.csv', index = False)"
   ]
  },
  {
   "cell_type": "markdown",
   "metadata": {},
   "source": [
    "\n",
    "<h3> 1. publicationsAllより、重複削除、単著論文を除外、HAPは著者情報が500までしかDLされないが、とりあえずそのまま（APIで確認し直す）</h3>"
   ]
  },
  {
   "cell_type": "code",
   "execution_count": 94,
   "metadata": {
    "scrolled": false
   },
   "outputs": [
    {
     "name": "stdout",
     "output_type": "stream",
     "text": [
      "all publications:8794\n",
      "Target publications (単著以外):8384\n"
     ]
    }
   ],
   "source": [
    "publicationsAll['Number of Authors'] = publicationsAll['Number of Authors'].astype(int)\n",
    "uniquepubdf = publicationsAll.drop_duplicates()\n",
    "targetdf = uniquepubdf[uniquepubdf['Number of Authors'] > 1]\n",
    "print('all publications:' + str(len(uniquepubdf)))\n",
    "print('Target publications (単著以外):' + str(len(targetdf)))"
   ]
  },
  {
   "cell_type": "code",
   "execution_count": 95,
   "metadata": {
    "scrolled": true
   },
   "outputs": [
    {
     "data": {
      "text/plain": [
       "Index(['Title', 'Authors', 'Number of Authors', 'Scopus Author Ids', 'Year',\n",
       "       'Scopus Source title', 'SNIP 2017', 'Citations',\n",
       "       'Field-Weighted Outputs in Top Citation Percentiles, per percentile',\n",
       "       'DOI', 'Publication-type', 'EID',\n",
       "       'All Science Journal Classification (ASJC)'],\n",
       "      dtype='object')"
      ]
     },
     "execution_count": 95,
     "metadata": {},
     "output_type": "execute_result"
    }
   ],
   "source": [
    "targetdf.columns"
   ]
  },
  {
   "cell_type": "markdown",
   "metadata": {},
   "source": [
    "\n",
    "<h3>2. Author ID を抽出(重複あり)、数を確認</h3>"
   ]
  },
  {
   "cell_type": "code",
   "execution_count": 96,
   "metadata": {
    "scrolled": false
   },
   "outputs": [
    {
     "name": "stdout",
     "output_type": "stream",
     "text": [
      "20315\n",
      "21206\n",
      "29949\n",
      "21100201068\n",
      "16687\n",
      "29949\n",
      "17382\n",
      "21100370017\n",
      "15316\n",
      "16767\n",
      "29083\n",
      "21100779241\n",
      "29150\n",
      "28371\n",
      "15536\n",
      "29150\n",
      "20313\n",
      "19897\n",
      "19064\n",
      "23062\n",
      "25453\n",
      "22305\n",
      "18429\n",
      "21100205926\n",
      "23774\n",
      "23062\n",
      "21100924827\n",
      "25453\n",
      "28218\n",
      "24548\n",
      "26662\n",
      "14639\n",
      "23825\n",
      "29150\n",
      "22415\n",
      "21100829284\n",
      "25295\n",
      "26000\n",
      "12531\n",
      "21100200805\n",
      "21100779241\n",
      "21100970268\n",
      "21100829284\n",
      "12539\n",
      "40067\n",
      "23875\n",
      "21100779241\n",
      "21100779241\n",
      "21100924827\n",
      "23062\n",
      "21101041514\n",
      "21100211738\n",
      "21100211738\n",
      "23741\n",
      "23181\n",
      "29067\n",
      "24863\n",
      "21100779241\n",
      "25453\n",
      "21100779241\n",
      "3900148506\n",
      "29767\n",
      "29150\n",
      "17525\n",
      "19194\n",
      "23062\n",
      "26662\n",
      "23899\n",
      "28541\n",
      "21100200805\n",
      "23062\n",
      "40067\n",
      "20344\n",
      "29067\n",
      "25453\n",
      "26781\n",
      "29794\n",
      "23062\n",
      "21100779241\n",
      "40067\n",
      "26781\n",
      "21100220161\n",
      "15894\n",
      "25453\n",
      "19417\n",
      "16767\n",
      "7600153101\n",
      "21100779241\n",
      "13213\n",
      "20648\n",
      "22416\n",
      "25979\n",
      "15857\n",
      "25997\n",
      "12391\n",
      "40173\n",
      "27608\n",
      "28520\n",
      "21100779241\n",
      "20577\n",
      "17382\n",
      "22415\n",
      "21100200805\n",
      "23752\n",
      "29482\n",
      "26781\n",
      "29970\n",
      "26781\n",
      "21524\n",
      "144989\n",
      "19800188003\n",
      "22415\n",
      "21100779241\n",
      "21100786208\n",
      "17600154902\n",
      "20185\n",
      "21100200805\n",
      "28747\n",
      "130053\n",
      "21101018916\n",
      "19196\n",
      "25453\n",
      "24863\n",
      "15116\n",
      "21100900345\n",
      "20648\n",
      "29954\n",
      "26781\n",
      "19194\n",
      "13867\n",
      "19700177504\n",
      "29150\n",
      "21100829284\n",
      "26082\n",
      "19900192103\n",
      "19700175906\n",
      "4900152808\n",
      "130053\n",
      "25997\n",
      "23062\n",
      "19194\n",
      "21100200805\n",
      "15754\n",
      "19400158822\n",
      "15754\n",
      "29700\n",
      "10600153309\n",
      "25295\n",
      "12212\n",
      "83418\n",
      "23877\n",
      "19194\n",
      "25426\n",
      "21100411756\n",
      "21239\n",
      "23828\n",
      "21100779241\n",
      "17525\n",
      "17525\n",
      "21101004504\n",
      "21100829284\n",
      "17069\n",
      "19700177504\n",
      "31445\n",
      "26617\n",
      "40067\n",
      "21100779241\n",
      "21100779241\n",
      "10600153309\n",
      "19700182758\n",
      "19240\n",
      "25453\n",
      "25453\n",
      "21101004504\n",
      "25997\n",
      "15207\n",
      "21100200805\n",
      "21100827522\n",
      "27592\n",
      "23062\n",
      "13147\n",
      "21100200805\n",
      "Author Ids count: 119534\n",
      "Number of Authors: 119722\n"
     ]
    }
   ],
   "source": [
    "aIds = []\n",
    "nofaIds = 0\n",
    "for i, row in targetdf.iterrows():\n",
    "    author = [row['Scopus Author Ids']]\n",
    "    author = author[0].split('| ')\n",
    "    aIds.extend(author)\n",
    "    if row['Number of Authors'] > 500:\n",
    "        nofa = 500\n",
    "    else:\n",
    "        nofa = row['Number of Authors']\n",
    "    nofaIds = nofaIds + nofa\n",
    "\n",
    "    #HAP以外でIDの数とAuthor数が一致しない場合、そのscopusIDを出力（一応確認のため）\n",
    "    if len(author) != nofa:\n",
    "        print(row['EID'])\n",
    "    else:\n",
    "        continue\n",
    "        \n",
    "aIdsdf = pd.DataFrame(aIds, columns=['Author ID'])\n",
    "\n",
    "#Authorの数とIDの数が一致するか確認\n",
    "print('Author Ids count: ' + str(len(aIdsdf)))\n",
    "print('Number of Authors: ' + str(nofaIds))"
   ]
  },
  {
   "cell_type": "markdown",
   "metadata": {},
   "source": [
    "\n",
    "<h3>3. Unique Author ID listを作る</h3>"
   ]
  },
  {
   "cell_type": "code",
   "execution_count": 97,
   "metadata": {},
   "outputs": [
    {
     "name": "stdout",
     "output_type": "stream",
     "text": [
      "Unique Author IDs: 46406\n"
     ]
    }
   ],
   "source": [
    "uniqueaIds = aIdsdf.drop_duplicates()\n",
    "uniqueaIds =uniqueaIds.astype(int)\n",
    "print('Unique Author IDs: ' + str(len(uniqueaIds)))\n",
    "\n",
    "\n"
   ]
  },
  {
   "cell_type": "code",
   "execution_count": 98,
   "metadata": {},
   "outputs": [],
   "source": [
    "uniqueaIds.to_csv('UniqueAuthorIdsList.csv', index = False)"
   ]
  },
  {
   "cell_type": "code",
   "execution_count": null,
   "metadata": {},
   "outputs": [],
   "source": []
  }
 ],
 "metadata": {
  "kernelspec": {
   "display_name": "Python 3",
   "language": "python",
   "name": "python3"
  },
  "language_info": {
   "codemirror_mode": {
    "name": "ipython",
    "version": 3
   },
   "file_extension": ".py",
   "mimetype": "text/x-python",
   "name": "python",
   "nbconvert_exporter": "python",
   "pygments_lexer": "ipython3",
   "version": "3.8.5"
  }
 },
 "nbformat": 4,
 "nbformat_minor": 2
}
